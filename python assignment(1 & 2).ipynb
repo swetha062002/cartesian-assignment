{
 "cells": [
  {
   "cell_type": "markdown",
   "id": "f78c090c",
   "metadata": {},
   "source": [
    "# 1.python \n",
    "statement=\"This declaration represents a\n",
    "political commitment among declaration partners to advance a positive vision\n",
    "for the Internet in this era of a united europe\"\n",
    "\n",
    "1)reverse 2)occurance"
   ]
  },
  {
   "cell_type": "code",
   "execution_count": 2,
   "id": "d8238428",
   "metadata": {},
   "outputs": [
    {
     "name": "stdout",
     "output_type": "stream",
     "text": [
      "['This', 'declaration', 'represents', 'a', 'political', 'commitment', 'among', 'declaration', 'partners', 'to', 'advance', 'a', 'positive', 'vision', 'for', 'the', 'Internet', 'in', 'this', 'era', 'of', 'a', 'united', 'europe']\n",
      "['europe', 'united', 'a', 'of', 'era', 'this', 'in', 'Internet', 'the', 'for', 'vision', 'positive', 'a', 'advance', 'to', 'partners', 'declaration', 'among', 'commitment', 'political', 'a', 'represents', 'declaration', 'This']\n"
     ]
    },
    {
     "data": {
      "text/plain": [
       "'europe united a of era this in Internet the for vision positive a advance to partners declaration among commitment political a represents declaration This'"
      ]
     },
     "execution_count": 2,
     "metadata": {},
     "output_type": "execute_result"
    }
   ],
   "source": [
    "#printing in reverse using indexing\n",
    "statement=\"This declaration represents a political commitment among declaration partners to advance a positive vision for the Internet in this era of a united europe\"\n",
    "words=statement.split(\" \")\n",
    "print(words)\n",
    "\n",
    "words=words[::-1]\n",
    "print(words)\n",
    "\n",
    "output=' '.join(words)\n",
    "output"
   ]
  },
  {
   "cell_type": "code",
   "execution_count": 1,
   "id": "58975638",
   "metadata": {},
   "outputs": [
    {
     "name": "stdout",
     "output_type": "stream",
     "text": [
      "This declaration represents a political commitment among declaration partners to advance a positive vision for the Internet in this era of a united europe\n",
      "a   :  3 times\n",
      "this   :  2 times\n"
     ]
    }
   ],
   "source": [
    "from collections import Counter\n",
    "  \n",
    "data_set = input().lower()\n",
    "\n",
    "  \n",
    "\n",
    "split_it = data_set.split()\n",
    "  \n",
    "Counter = Counter(split_it)\n",
    "\n",
    "most_occur = Counter.most_common(4)\n",
    "\n",
    "di = {}\n",
    "\n",
    "\n",
    "for i in most_occur:\n",
    "    di[i[0]] = i[1]\n",
    "\n",
    "s = dict(sorted(di.items(), key=lambda item: item[1])[::-2])\n",
    "\n",
    "for i in s:\n",
    "    print(i  , \"  : \" , s[i] , \"times\")"
   ]
  },
  {
   "cell_type": "code",
   "execution_count": null,
   "id": "5a75d8d6",
   "metadata": {},
   "outputs": [],
   "source": []
  }
 ],
 "metadata": {
  "kernelspec": {
   "display_name": "Python 3 (ipykernel)",
   "language": "python",
   "name": "python3"
  },
  "language_info": {
   "codemirror_mode": {
    "name": "ipython",
    "version": 3
   },
   "file_extension": ".py",
   "mimetype": "text/x-python",
   "name": "python",
   "nbconvert_exporter": "python",
   "pygments_lexer": "ipython3",
   "version": "3.9.12"
  }
 },
 "nbformat": 4,
 "nbformat_minor": 5
}
